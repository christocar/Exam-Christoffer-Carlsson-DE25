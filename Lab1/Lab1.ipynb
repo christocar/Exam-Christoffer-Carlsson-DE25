{
 "cells": [
  {
   "cell_type": "markdown",
   "id": "4b81839c",
   "metadata": {},
   "source": [
    "# Lab 1 - DNA analysis through Python"
   ]
  },
  {
   "cell_type": "code",
   "execution_count": null,
   "id": "f4f976f0",
   "metadata": {},
   "outputs": [
    {
     "name": "stdout",
     "output_type": "stream",
     "text": [
      "{'A': 17, 'C': 8, 'G': 2, 'T': 7}\n"
     ]
    }
   ],
   "source": [
    "import matplotlib.pyplot as plt # I will use pyplot to visualize the results\n",
    "\n",
    "def read_dna_file(filename): # function to read the DNA file\n",
    "    dna_data = {} # my dictionary to store the data\n",
    "    seq_id = \"\" # create an empty string to hold the sequence ID\n",
    "    dna = \"\" # create an empty string to hold the DNA sequence\n",
    "\n",
    "    with open(filename, \"r\") as txt_file: # open the dna file safely in read mode with the with statement\n",
    "        for line in txt_file: # iterate through the lines in the file\n",
    "            line = line.strip().upper() # remove whitespace characters from the beginning and end of the line and convert to uppercase\n",
    "\n",
    "            if line.startswith(\">\"): # if the line starts with \">\", it is a sequence ID (seq_id)\n",
    "                if seq_id: # if seq_id is not empty\n",
    "                    dna_data[seq_id] = dna # store the previous sequence in the dna_data dictionary\n",
    "                seq_id = line[1:] # update seq_id to start after \">\" making it correct\n",
    "                dna = \"\" # reset the dna string for the new sequence\n",
    "            else:\n",
    "                dna = dna + line # add the line to the dna string\n",
    "\n",
    "    if seq_id != \"\": # after the loop, check if there is a last sequence to add\n",
    "        dna_data[seq_id] = dna # store the last sequence in the dna_data dictionary\n",
    "\n",
    "    return dna_data # return the dictionary containing all sequences in the txt_file\n",
    "\n",
    "\n",
    "\n",
    "def count_letters(dna_sequence): # function to count the letters in the DNA sequences\n",
    "    letter_count = {\"A\": 0, \"C\": 0, \"G\": 0, \"T\": 0} # create a dictionary to hold the counts of each letter\n",
    "\n",
    "    for letter in dna_sequence: # iterate through each letter in the DNA sequence\n",
    "        if letter in letter_count: # if the letter is one of A, C, G, T\n",
    "            letter_count[letter] += 1 # increment the count for that letter\n",
    "\n",
    "    return letter_count # return the dictionary with the counts of each letter\n",
    "\n",
    "# Test the functions\n",
    "\n",
    "# Read DNA data from the file\n",
    "dna_dict = read_dna_file(\"dna_raw.txt\")\n",
    "\n",
    "# Pick the first sequence to analyze\n",
    "first_seq = list(dna_dict.values())[0]\n",
    "\n",
    "# Count the nucleotides/letters\n",
    "counts = count_letters(first_seq)\n",
    "\n",
    "# Print the letter count dictionary\n",
    "print(counts)\n"
   ]
  },
  {
   "cell_type": "code",
   "execution_count": null,
   "id": "59025349",
   "metadata": {},
   "outputs": [],
   "source": []
  }
 ],
 "metadata": {
  "kernelspec": {
   "display_name": "Python 3",
   "language": "python",
   "name": "python3"
  },
  "language_info": {
   "codemirror_mode": {
    "name": "ipython",
    "version": 3
   },
   "file_extension": ".py",
   "mimetype": "text/x-python",
   "name": "python",
   "nbconvert_exporter": "python",
   "pygments_lexer": "ipython3",
   "version": "3.12.10"
  }
 },
 "nbformat": 4,
 "nbformat_minor": 5
}
